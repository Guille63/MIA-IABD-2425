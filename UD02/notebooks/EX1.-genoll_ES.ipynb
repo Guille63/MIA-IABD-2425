{
  "cells": [
    {
      "cell_type": "markdown",
      "id": "d0cbeb810ac114ad",
      "metadata": {
        "collapsed": false,
        "id": "d0cbeb810ac114ad"
      },
      "source": [
        "# Lesiones de rodilla\n",
        "\n",
        "Las lesiones en la rodilla son muy comunes en deportes como fútbol, ​​baloncesto o esquí. Estas lesiones pueden ser de diferentes tipos, pero las más comunes son las lesiones en el ligamento cruzado anterior (LCA) y el menisco.\n",
        "\n",
        "Muchas veces los sintomas de estas lesiones son similares, pero el tratamiento es diferente. Es por eso que es importante saber la lesión que sufre el paciente para aplicar el tratamiento adecuado y no empeorar la lesión.\n",
        "\n",
        "Crearemos un sistema experto con `experta` para ayudar a los entrenadores y médicos especializados en el diagnóstico de lesiones de rodilla, utilizando los datos de los pacientes que han sido diagnosticados por un médico especializado.\n",
        "\n",
        "Este sistema se basa en el trabajo [An Expert System for Knee Problems Diagnosis](https://www.researchgate.net/publication/354150948_An_Expert_System_for_Knee_Problems_Diagnosis/link/6127bc8338818c2eaf62917b/download?_tp=eyJjb250ZXh0Ijp7ImZpcnN0UGFnZSI6InB1YmxpY2F0aW9uIiwicGFnZSI6InB1YmxpY2F0aW9uIn19) de [Lamis F Samhan](https://www.researchgate.net/profile/Lamis-Samhan?_tp=eyJjb250ZXh0Ijp7ImZpcnN0UGFnZSI6InB1YmxpY2F0aW9uIiwicGFnZSI6InB1YmxpY2F0aW9uIn19) i [Samy S. Abu-Naser](https://www.researchgate.net/profile/Samy-Abu-Naser?_tp=eyJjb250ZXh0Ijp7ImZpcnN0UGFnZSI6InB1YmxpY2F0aW9uIiwicGFnZSI6InB1YmxpY2F0aW9uIn19)."
      ]
    },
    {
      "cell_type": "markdown",
      "id": "8d54d73218e27f40",
      "metadata": {
        "collapsed": false,
        "id": "8d54d73218e27f40"
      },
      "source": [
        "## Hechos\n",
        "\n",
        "Para llegar a una conclusión sobre la lesión del paciente, el especialista en el sistema experto debe tener en cuenta diferentes síntomas. Estos síntomas son los siguientes:\n",
        "\n",
        "- `golpe` (s1): El dolor o la inflamación de la rodilla comenzó después de una caída, una lesión por rotación o después de la rodilla fue golpeada por un objeto o persona.\n",
        "- `deformacion` (s2): La rodilla está deformada.\n",
        "- `rotula inflamada` (s3): La rótula está inflamada, blanda y caliente y hay dolor durante la actividad.\n",
        "- `rodilla inflamada` (s4): La rodilla está inflamada, blanda y caliente y hay dolor después de sentarse por un tiempo o después de subir y bajar las escaleras.\n",
        "- `dolor posterior` (s5):Hay un dolor agudo en la parte posterior de la rodilla y es doloroso cuando la pierna se estira.\n",
        "- `crepitaciones` (s6):Hay crepitaciones en la rodilla o la rodilla se bloquea incluso si mejora el dolor.\n",
        "- `rojo` (s7): La rodilla está roja y/o inflamada.\n",
        "- `fiebre` (s8): Hay fiebre asociada con la rodilla inflamada/roja.\n",
        "- `tiempo` (s9): La rodilla se ha debilitado con el tiempo y el dolor empeora con los cambios de tiempo.\n",
        "- `inflamacion_detras` (s10): La rodilla está inflamada o tierna\n",
        "- `joven_anterior_rodilla` (s11): El paciente tiene entre 12 y 18 años y tiene dolor en la parte anterior de la rodilla que empeora con la actividad.\n",
        "- `joven_rodilla` (s12): El paciente tiene menos de 18 años y tiene dolor en la rodilla.\n",
        "\n",
        "Según diferentes combinaciones de síntomas, el sistema experto debe ser capaz de diagnosticar la lesión del paciente.Las lesiones que el sistema experto puede diagnosticar son las siguientes:\n",
        "\n",
        "- Si el paciente tiene `golpe`:\n",
        "  - Si también tienes `deformacion`, el sistema experto debe diagnosticar que el paciente puede tener una `fractura` o un `ligamento roto`\n",
        "  - Si también tiene `rotula inflamada`, el sistema experto debe diagnosticar que el paciente puede tener un `fractura rotula`.\n",
        "  - Si también tienes `rodilla inflamada`, el sistema experto debe diagnosticar que el paciente puede tener un `ligamento roto` o el `menisco roto`.\n",
        "  - Si también tiene `dolor posterior`, el sistema experto debe diagnosticar que el el paciente puede tener el `musculo isquiotibial roto`.\n",
        "  - Si también tiene `crepitaciones`, el sistema experto debe diagnosticar que el paciente pueda tener `menisco roto`.\n",
        "- Si tiene `rojo` y tiene `fiebre`, el sistema experto debe diagnosticar que el paciente pueda tener una `artritis reumatoide`.\n",
        "- Si tiene `temps`: El sistema expert ha de diagnosticar que el pacient pot tindre `osteo artritis`.\n",
        "- Si tiene `inflacio_detras`: El sistema experto debe diagnosticar que el paciente puede tener `quiste de Baker`.\n",
        "- Si tiene `joven_anterior_rodilla`: El sistema experto debe diagnosticar que el paciente puede tener `sindrome de Osgood-Schlatter`.\n",
        "- Si tiene `joven_rodilla`: El sistema experto debe diagnosticar que el paciente puede tener `dolor de crecimiento`."
      ]
    },
    {
      "cell_type": "markdown",
      "id": "3414dfa1d8e9c879",
      "metadata": {
        "collapsed": false,
        "id": "3414dfa1d8e9c879"
      },
      "source": [
        "Comenzamos por instalar e importar la librería `experta` y creando el sistema experto."
      ]
    },
    {
      "cell_type": "code",
      "execution_count": 1,
      "id": "2b830053f4963509",
      "metadata": {
        "ExecuteTime": {
          "end_time": "2024-01-08T22:21:48.300365Z",
          "start_time": "2024-01-08T22:21:39.790696Z"
        },
        "colab": {
          "base_uri": "https://localhost:8080/"
        },
        "id": "2b830053f4963509",
        "outputId": "5dbde344-253b-481b-a256-259b7f0f3c84",
        "collapsed": true
      },
      "outputs": [
        {
          "output_type": "stream",
          "name": "stdout",
          "text": [
            "Collecting git+https://github.com/openmotics/om-experta.git\n",
            "  Cloning https://github.com/openmotics/om-experta.git to /tmp/pip-req-build-n1dy8pm7\n",
            "  Running command git clone --filter=blob:none --quiet https://github.com/openmotics/om-experta.git /tmp/pip-req-build-n1dy8pm7\n",
            "  Resolved https://github.com/openmotics/om-experta.git to commit d35d53708a46482e1ee4e3a4bc1a36bc03492913\n",
            "  Preparing metadata (setup.py) ... \u001b[?25l\u001b[?25hdone\n",
            "Collecting frozendict==2.3.8 (from om-experta==1.9.8)\n",
            "  Downloading frozendict-2.3.8-cp310-cp310-manylinux_2_17_x86_64.manylinux2014_x86_64.whl.metadata (20 kB)\n",
            "Collecting schema==0.6.7 (from om-experta==1.9.8)\n",
            "  Downloading schema-0.6.7-py2.py3-none-any.whl.metadata (14 kB)\n",
            "Downloading frozendict-2.3.8-cp310-cp310-manylinux_2_17_x86_64.manylinux2014_x86_64.whl (115 kB)\n",
            "\u001b[2K   \u001b[90m━━━━━━━━━━━━━━━━━━━━━━━━━━━━━━━━━━━━━━━━\u001b[0m \u001b[32m115.3/115.3 kB\u001b[0m \u001b[31m3.6 MB/s\u001b[0m eta \u001b[36m0:00:00\u001b[0m\n",
            "\u001b[?25hDownloading schema-0.6.7-py2.py3-none-any.whl (14 kB)\n",
            "Building wheels for collected packages: om-experta\n",
            "  Building wheel for om-experta (setup.py) ... \u001b[?25l\u001b[?25hdone\n",
            "  Created wheel for om-experta: filename=om_experta-1.9.8-py3-none-any.whl size=35883 sha256=f7b728e8c4f249c4d9cea6a273ad03851ba9a02f674e25c414304d2b0fb7553b\n",
            "  Stored in directory: /tmp/pip-ephem-wheel-cache-_p_t1of7/wheels/60/c2/a6/6654a61b88863ceaf39a34de66f8591d327e3b154d58bcc3e9\n",
            "Successfully built om-experta\n",
            "Installing collected packages: schema, frozendict, om-experta\n",
            "  Attempting uninstall: frozendict\n",
            "    Found existing installation: frozendict 2.4.6\n",
            "    Uninstalling frozendict-2.4.6:\n",
            "      Successfully uninstalled frozendict-2.4.6\n",
            "Successfully installed frozendict-2.3.8 om-experta-1.9.8 schema-0.6.7\n"
          ]
        }
      ],
      "source": [
        "%pip install git+https://github.com/openmotics/om-experta.git"
      ]
    },
    {
      "cell_type": "code",
      "source": [
        "from experta import *\n",
        "class Lesiones(KnowledgeEngine):\n",
        "    # Reglas\n",
        "\n",
        "    @Rule(Fact('golpe'), Fact('deformacion'))\n",
        "    # Si el paciente tiene golpe y deformación, puede tener una fractura o un ligamento roto\n",
        "    def fractura_o_ligamento_roto(self):\n",
        "        self.declare(Fact(lesion='fractura o ligamento roto'))\n",
        "\n",
        "    @Rule(Fact('golpe'), Fact('rotula_inflamada'))\n",
        "    # Si el paciente tiene golpe y rótula inflamada, puede tener una fractura de rótula\n",
        "    def fractura_rotula(self):\n",
        "        self.declare(Fact(lesion='fractura de rótula'))\n",
        "\n",
        "    @Rule(Fact('golpe'), Fact('rodilla_inflamada'))\n",
        "    # Si el paciente tiene golpe y rodilla inflamada, puede tener un ligamento roto o el menisco roto\n",
        "    def ligamento_o_menisco_roto(self):\n",
        "        self.declare(Fact(lesion='ligamento roto o menisco roto'))\n",
        "\n",
        "    @Rule(Fact('golpe'), Fact('dolor_posterior'))\n",
        "    # Si el paciente tiene golpe y dolor posterior, puede tener el músculo isquiotibial roto\n",
        "    def musculo_isquiotibial_roto(self):\n",
        "        self.declare(Fact(lesion='músculo isquiotibial roto'))\n",
        "\n",
        "    @Rule(Fact('golpe'), Fact('crepitaciones'))\n",
        "    # Si el paciente tiene golpe y crepitaciones, puede tener el menisco roto\n",
        "    def menisco_roto(self):\n",
        "        self.declare(Fact(lesion='menisco roto'))\n",
        "\n",
        "    @Rule(Fact('rojo'), Fact('fiebre'))\n",
        "    # Si el paciente tiene rojo y fiebre, puede tener artritis reumatoide\n",
        "    def artritis_reumatoide(self):\n",
        "        self.declare(Fact(lesion='artritis reumatoide'))\n",
        "\n",
        "    @Rule(Fact('tiempo'))\n",
        "    # Si el paciente tiene tiempo, puede tener osteoartritis\n",
        "    def osteo_artritis(self):\n",
        "        self.declare(Fact(lesion='osteoartritis'))\n",
        "\n",
        "    @Rule(Fact('inflamacion_detras'))\n",
        "    # Si el paciente tiene inflamación detrás, puede tener quiste de Baker\n",
        "    def quiste_de_Baker(self):\n",
        "        self.declare(Fact(lesion='quiste de Baker'))\n",
        "\n",
        "    @Rule(Fact('joven_anterior_rodilla'))\n",
        "    # Si el paciente es joven y tiene dolor en la parte anterior de la rodilla, puede tener síndrome de Osgood-Schlatter\n",
        "    def sindrome_de_Osgood_Schlatter(self):\n",
        "        self.declare(Fact(lesion='síndrome de Osgood-Schlatter'))\n",
        "\n",
        "    @Rule(Fact('joven_rodilla'))\n",
        "    # Si el paciente es joven y tiene dolor en la rodilla, puede tener dolor de crecimiento\n",
        "    def dolor_de_crecimiento(self):\n",
        "        self.declare(Fact(lesion='dolor de crecimiento'))\n",
        "\n",
        "    @Rule(Fact(lesion=MATCH.tipo))\n",
        "    # Si está definida la lesión, entonces la mostramos\n",
        "    def mostrar_lesion(self, tipo):\n",
        "        print(f\"El paciente puede tener: {tipo}\")\n",
        "\n",
        "    def añadir_hechos(self, hechos):\n",
        "        # Añadiremos los hechos pasados como parámetro (hechos) al sistema experto\n",
        "        # Usaremos esta función para inicializar el sistema experto.\n",
        "        for f in hechos:\n",
        "            self.declare(f)"
      ],
      "metadata": {
        "id": "-jzfpeSJzmIM"
      },
      "id": "-jzfpeSJzmIM",
      "execution_count": 35,
      "outputs": []
    },
    {
      "cell_type": "markdown",
      "id": "27b9d955f6d535ce",
      "metadata": {
        "collapsed": false,
        "id": "27b9d955f6d535ce"
      },
      "source": [
        "## Prueba del sistema experto\n",
        "\n",
        "Para probar el sistema experto, realizaremos una serie de pruebas con diferentes combinaciones de síntomas y verificaremos que el sistema experto diagnostica correctamente la lesión sufrida por el paciente.\n",
        "\n",
        "Haremos 6 pruebas con diferentes combinaciones de síntomas, las pruebas que haremos son las siguientes:\n",
        "\n",
        "- Prueba 1: paciente con `golpe` y `deformacion`. El sistema experto debe diagnosticar que el paciente puede tener una `fractura`.\n",
        "- Prueba 2: paciente con `golpe` y `rodilla_inflamada`. El sistema experto debe diagnosticar que el paciente puede tener un `ligamento roto` o `menisco roto`.\n",
        "- Prueba 3: paciente con `rojo` y `fiebre`. El sistema experto debe diagnosticar que el paciente puede tener una `artritis reumatoide`.\n",
        "- Prueba 4: paciente con `tiempo`. El sistema experto debe diagnosticar que el paciente puede tener `osteo artritis'.\n",
        "- Prueba 5: paciente con `inflamacion_detras`. El sistema experto debe diagnosticar que el paciente pueda tener el `quiste de Baker`.\n",
        "- Prueba 6: paciente con `joven_anterior_rodilla`. El sistema experto debe diagnosticar que el paciente pueda tener el `sindrome de Osgood-Schlatter`."
      ]
    },
    {
      "cell_type": "code",
      "execution_count": 36,
      "id": "21d4191617e7b605",
      "metadata": {
        "ExecuteTime": {
          "end_time": "2024-01-08T22:21:48.367737Z",
          "start_time": "2024-01-08T22:21:48.345408Z"
        },
        "colab": {
          "base_uri": "https://localhost:8080/"
        },
        "id": "21d4191617e7b605",
        "outputId": "3352b034-323b-42b7-cce7-4cec08b8fcd9"
      },
      "outputs": [
        {
          "output_type": "stream",
          "name": "stdout",
          "text": [
            "El paciente puede tener: fractura o ligamento roto\n"
          ]
        },
        {
          "output_type": "execute_result",
          "data": {
            "text/plain": [
              "FactList([(0, InitialFact()),\n",
              "          (1, Fact('golpe')),\n",
              "          (2, Fact('deformacion')),\n",
              "          (3, Fact('lesion', tipo='fractura o ligamento roto'))])"
            ]
          },
          "metadata": {},
          "execution_count": 36
        }
      ],
      "source": [
        "# Inicializa el sistema experto, reinicialo y realiza la prueba 1\n",
        "lesion = Lesion()\n",
        "lesion.reset()\n",
        "\n",
        "lesion.añadir_sintomas(['golpe', 'deformacion'])\n",
        "lesion.run()\n",
        "\n",
        "lesion.facts"
      ]
    },
    {
      "cell_type": "code",
      "execution_count": 30,
      "id": "13ba38fdf6886a54",
      "metadata": {
        "ExecuteTime": {
          "end_time": "2024-01-08T22:21:48.466398Z",
          "start_time": "2024-01-08T22:21:48.371053Z"
        },
        "colab": {
          "base_uri": "https://localhost:8080/"
        },
        "id": "13ba38fdf6886a54",
        "outputId": "dd13d48e-797b-4679-8665-a7b638d0a7ad"
      },
      "outputs": [
        {
          "output_type": "stream",
          "name": "stdout",
          "text": [
            "El paciente puede tener: ligamento roto o menisco roto\n"
          ]
        },
        {
          "output_type": "execute_result",
          "data": {
            "text/plain": [
              "FactList([(0, InitialFact()),\n",
              "          (1, Fact('golpe')),\n",
              "          (2, Fact('rodilla_inflamada')),\n",
              "          (3, Fact('lesion', tipo='ligamento roto o menisco roto'))])"
            ]
          },
          "metadata": {},
          "execution_count": 30
        }
      ],
      "source": [
        "# Escribe el código para la prueba 2 (recuerda reiniciar el sistema)\n",
        "lesion.reset()\n",
        "\n",
        "lesion.añadir_sintomas(['golpe', 'rodilla_inflamada'])\n",
        "lesion.run()\n",
        "\n",
        "lesion.facts"
      ]
    },
    {
      "cell_type": "code",
      "execution_count": 31,
      "id": "79d613cf97f6694b",
      "metadata": {
        "ExecuteTime": {
          "end_time": "2024-01-08T22:21:48.534052Z",
          "start_time": "2024-01-08T22:21:48.396770Z"
        },
        "colab": {
          "base_uri": "https://localhost:8080/"
        },
        "id": "79d613cf97f6694b",
        "outputId": "8de9d671-2f55-4f47-9202-6e05c10014b7"
      },
      "outputs": [
        {
          "output_type": "stream",
          "name": "stdout",
          "text": [
            "El paciente puede tener: artritis reumatoide\n"
          ]
        },
        {
          "output_type": "execute_result",
          "data": {
            "text/plain": [
              "FactList([(0, InitialFact()),\n",
              "          (1, Fact('rojo')),\n",
              "          (2, Fact('fiebre')),\n",
              "          (3, Fact('lesion', tipo='artritis reumatoide'))])"
            ]
          },
          "metadata": {},
          "execution_count": 31
        }
      ],
      "source": [
        "# Escribe el código para la prueba 3 (recuerda reiniciar el sistema)\n",
        "lesion.reset()\n",
        "\n",
        "lesion.añadir_sintomas(['rojo', 'fiebre'])\n",
        "lesion.run()\n",
        "\n",
        "lesion.facts"
      ]
    },
    {
      "cell_type": "code",
      "execution_count": 32,
      "id": "dd19b4b0bd2327fc",
      "metadata": {
        "ExecuteTime": {
          "end_time": "2024-01-08T22:21:48.535774Z",
          "start_time": "2024-01-08T22:21:48.414181Z"
        },
        "colab": {
          "base_uri": "https://localhost:8080/"
        },
        "id": "dd19b4b0bd2327fc",
        "outputId": "3a1a38ba-6355-4000-be02-a41de495ae95"
      },
      "outputs": [
        {
          "output_type": "stream",
          "name": "stdout",
          "text": [
            "El paciente puede tener: osteo artritis\n"
          ]
        },
        {
          "output_type": "execute_result",
          "data": {
            "text/plain": [
              "FactList([(0, InitialFact()),\n",
              "          (1, Fact('tiempo')),\n",
              "          (2, Fact('lesion', tipo='osteo artritis'))])"
            ]
          },
          "metadata": {},
          "execution_count": 32
        }
      ],
      "source": [
        "# Escribe el código para la prueba 4 (recuerda reiniciar el sistema)\n",
        "lesion.reset()\n",
        "\n",
        "lesion.añadir_sintomas(['tiempo'])\n",
        "lesion.run()\n",
        "\n",
        "lesion.facts"
      ]
    },
    {
      "cell_type": "code",
      "execution_count": 33,
      "id": "5edb8b51c105b704",
      "metadata": {
        "ExecuteTime": {
          "end_time": "2024-01-08T22:21:48.554804Z",
          "start_time": "2024-01-08T22:21:48.429298Z"
        },
        "colab": {
          "base_uri": "https://localhost:8080/"
        },
        "id": "5edb8b51c105b704",
        "outputId": "62f5c6a3-5e61-46ba-da52-100e1d4cd94a"
      },
      "outputs": [
        {
          "output_type": "stream",
          "name": "stdout",
          "text": [
            "El paciente puede tener: quiste de Baker\n"
          ]
        },
        {
          "output_type": "execute_result",
          "data": {
            "text/plain": [
              "FactList([(0, InitialFact()),\n",
              "          (1, Fact('inflamacion_detras')),\n",
              "          (2, Fact('lesion', tipo='quiste de Baker'))])"
            ]
          },
          "metadata": {},
          "execution_count": 33
        }
      ],
      "source": [
        "# Escribe el código para la prueba 5 (recuerda reiniciar el sistema)\n",
        "lesion.reset()\n",
        "\n",
        "lesion.añadir_sintomas(['inflamacion_detras'])\n",
        "lesion.run()\n",
        "\n",
        "lesion.facts"
      ]
    },
    {
      "cell_type": "code",
      "execution_count": 34,
      "id": "91f5bb634021d63c",
      "metadata": {
        "ExecuteTime": {
          "end_time": "2024-01-08T22:21:48.556023Z",
          "start_time": "2024-01-08T22:21:48.445482Z"
        },
        "colab": {
          "base_uri": "https://localhost:8080/"
        },
        "id": "91f5bb634021d63c",
        "outputId": "7bc49c29-a501-49be-927c-c4d575a852ad"
      },
      "outputs": [
        {
          "output_type": "stream",
          "name": "stdout",
          "text": [
            "El paciente puede tener: sindrome de Osgood-Schlatter\n"
          ]
        },
        {
          "output_type": "execute_result",
          "data": {
            "text/plain": [
              "FactList([(0, InitialFact()),\n",
              "          (1, Fact('joven_anterior_rodilla')),\n",
              "          (2, Fact('lesion', tipo='sindrome de Osgood-Schlatter'))])"
            ]
          },
          "metadata": {},
          "execution_count": 34
        }
      ],
      "source": [
        "# Escribe el código para la prueba 6 (recuerda reiniciar el sistema)\n",
        "lesion.reset()\n",
        "\n",
        "lesion.añadir_sintomas(['joven_anterior_rodilla'])\n",
        "lesion.run()\n",
        "\n",
        "lesion.facts"
      ]
    },
    {
      "cell_type": "markdown",
      "id": "ObWEX0pwa6So",
      "metadata": {
        "id": "ObWEX0pwa6So"
      },
      "source": [
        "# Entrega\n",
        "\n",
        "Una vez completado el Notebook y ejecutado completamente (comprueba que funcionan todas las pruebas). Envialo a la tarea correspondiente de AULES."
      ]
    }
  ],
  "metadata": {
    "colab": {
      "provenance": []
    },
    "kernelspec": {
      "display_name": "Python 3",
      "language": "python",
      "name": "python3"
    },
    "language_info": {
      "codemirror_mode": {
        "name": "ipython",
        "version": 2
      },
      "file_extension": ".py",
      "mimetype": "text/x-python",
      "name": "python",
      "nbconvert_exporter": "python",
      "pygments_lexer": "ipython2",
      "version": "2.7.6"
    }
  },
  "nbformat": 4,
  "nbformat_minor": 5
}