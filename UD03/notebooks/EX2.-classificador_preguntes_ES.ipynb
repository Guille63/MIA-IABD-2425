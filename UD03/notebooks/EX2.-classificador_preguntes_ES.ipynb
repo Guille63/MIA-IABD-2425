{
  "cells": [
    {
      "cell_type": "markdown",
      "id": "e5b020ca3265da72",
      "metadata": {
        "collapsed": false,
        "id": "e5b020ca3265da72"
      },
      "source": [
        "# Ejercicios UD03_02\n",
        "\n",
        "## Clasificar preguntas\n",
        "\n",
        "En la práctica [Clasificación de texto con PyTorch](https://colab.research.google.com/github/martinezpenya/MIA-IABD-2425/blob/main/UD03/notebooks/2.-classificacio_text_torch_ES.ipynb) hemos visto el proceso para convertir un texto en una representación numérica que pueda ser utilizada por un algoritmo de aprendizaje automático. Hemos visto diferentes representaciones como *Bolsa de palabras* (BoW) y *incrustaciones de palabras* (word embeddings) y cómo entrenar una red neuronal para clasificar texto.\n",
        "\n",
        "En esta práctica, deberá repetir el proceso para clasificar las preguntas en temas. Usaremos el conjunto de datos `Trec` que contiene preguntas en inglés y su tema. El conjunto de datos está disponible en [trec](https://huggingface.co/datasets/CogComp/trec).\n",
        "\n",
        "### Objetivos de la práctica\n",
        "* Reproducir el proceso visto en la práctica [Clasificación de texto con PyTorch](https://colab.research.google.com/github/martinezpenya/MIA-IABD-2425/blob/main/UD03/notebooks/2.-classificacio_text_torch_ES.ipynb) para clasificar preguntas en temáticas.\n",
        "* Deberá preparar una red neuronal con PyTorch para clasificar las preguntas.\n",
        "* Pruebe las diferentes representaciones vistas para convertir el texto en una representación numérica.\n",
        "* Tendrá que comparar los resultados obtenidos con las diferentes representaciones."
      ]
    },
    {
      "cell_type": "code",
      "source": [
        "# Instalamos las librerías necesarias en las versiones correctas\n",
        "\n",
        "# %pip install --upgrade torch datasets scikit-learn transformers"
      ],
      "metadata": {
        "collapsed": true,
        "id": "Ri9qJSHJ8Z-z"
      },
      "id": "Ri9qJSHJ8Z-z",
      "execution_count": null,
      "outputs": []
    },
    {
      "cell_type": "code",
      "source": [
        "from datasets import load_dataset\n",
        "\n",
        "# Cargamos el conjunto de datos. Se descargará y almacenará automáticamente en local.\n",
        "# Este conjunto de datos contiene noticias de diferentes categorías. En este caso\n",
        "# usaremos las categorías de mundo, deportes, negocios y ciencia ficción/tecnología.\n",
        "\n",
        "dataset = load_dataset('trec')\n",
        "\n",
        "dataset"
      ],
      "metadata": {
        "collapsed": true,
        "id": "Mu_KIPh98fgP"
      },
      "id": "Mu_KIPh98fgP",
      "execution_count": null,
      "outputs": []
    },
    {
      "cell_type": "code",
      "source": [
        "print(dataset['train'][0])\n",
        "\n",
        "print(dataset['train'].features)\n",
        "\n",
        "classes = dataset['train'].features[\"coarse_label\"].names\n",
        "classes"
      ],
      "metadata": {
        "id": "MxOfIHBM9yee"
      },
      "id": "MxOfIHBM9yee",
      "execution_count": null,
      "outputs": []
    },
    {
      "cell_type": "code",
      "source": [
        "# Separar el conjunto de datos en entrenamiento y test\n",
        "ds_train = dataset['train']\n",
        "ds_test = dataset['test']\n",
        "# Veamos cuántos ejemplos hay en cada set\n",
        "print('Número de ejemplos de train:', len(ds_train))\n",
        "print('Número de ejemplos de test:', len(ds_test))"
      ],
      "metadata": {
        "id": "LdBDrrpx-H8m"
      },
      "id": "LdBDrrpx-H8m",
      "execution_count": null,
      "outputs": []
    },
    {
      "cell_type": "code",
      "source": [
        "# Imprimimos los primeros 5 ejemplos del conjunto de entrenamiento\n",
        "for w in ds_train.take(5):\n",
        "    print(f\"{w['coarse_label']} ({classes[w['coarse_label']]}) -> {w['text']}\")"
      ],
      "metadata": {
        "id": "IX8f9udI-Nn9"
      },
      "id": "IX8f9udI-Nn9",
      "execution_count": null,
      "outputs": []
    },
    {
      "cell_type": "code",
      "source": [
        "# Utilizamos el tokenizador de Bert (uno de los primeros modelos de lenguaje basados ​​en transformación) para tokenizar las oraciones\n",
        "from transformers import BertTokenizer\n",
        "\n",
        "tokenizer = BertTokenizer.from_pretrained(\"google-bert/bert-base-uncased\")\n",
        "\n",
        "# Podiamos ver el vocabulario de tokenización\n",
        "vocab = tokenizer.get_vocab()\n",
        "print(len(vocab))"
      ],
      "metadata": {
        "id": "fQcK6rf8_MYc"
      },
      "id": "fQcK6rf8_MYc",
      "execution_count": null,
      "outputs": []
    },
    {
      "cell_type": "markdown",
      "source": [
        "Funcion para convertir nuestra cadena tokenizada a números"
      ],
      "metadata": {
        "id": "OhZuBgImJvT8"
      },
      "id": "OhZuBgImJvT8"
    },
    {
      "cell_type": "code",
      "source": [
        "def encode(text):\n",
        "    tk = tokenizer.tokenize(text)\n",
        "    return tokenizer.convert_tokens_to_ids(tk)"
      ],
      "metadata": {
        "id": "Na9QU1su_GLN"
      },
      "id": "Na9QU1su_GLN",
      "execution_count": null,
      "outputs": []
    },
    {
      "cell_type": "markdown",
      "source": [
        "## BoW\n",
        "Funcion para calcular el vector BoW de un comentario del dataset"
      ],
      "metadata": {
        "id": "sSYG4T_DADDs"
      },
      "id": "sSYG4T_DADDs"
    },
    {
      "cell_type": "code",
      "source": [
        "import torch\n",
        "\n",
        "len_vocab = len(vocab)\n",
        "\n",
        "def to_bow(text, tamany_vocabulari=len_vocab):\n",
        "    res = torch.zeros(tamany_vocabulari, dtype=torch.float32)\n",
        "\n",
        "    for i in encode(text):\n",
        "        if i<tamany_vocabulari:\n",
        "            res[i] += 1\n",
        "    return res\n",
        "\n",
        "print(ds_train[0])\n",
        "print(to_bow(ds_train[0][\"text\"]))"
      ],
      "metadata": {
        "id": "17KiIGvo-tbt"
      },
      "id": "17KiIGvo-tbt",
      "execution_count": null,
      "outputs": []
    },
    {
      "cell_type": "markdown",
      "source": [
        "Función que convierte las palabras textuales en tensores BoW"
      ],
      "metadata": {
        "id": "k5oqiQuQMCdm"
      },
      "id": "k5oqiQuQMCdm"
    },
    {
      "cell_type": "code",
      "source": [
        "from torch.utils.data import DataLoader\n",
        "\n",
        "def bowify(batch):\n",
        "    etiquetas = torch.LongTensor([comentario[\"coarse_label\"] for comentario in batch])\n",
        "    comentarios = torch.stack([to_bow(comentario[\"text\"]) for comentario in batch])\n",
        "\n",
        "    return (\n",
        "            etiquetas,\n",
        "            comentarios\n",
        "    )\n",
        "\n",
        "train_loader = DataLoader(ds_train, batch_size=16, collate_fn=bowify)\n",
        "test_loader = DataLoader(ds_test, batch_size=16, collate_fn=bowify)"
      ],
      "metadata": {
        "id": "icRKFBro_r7F"
      },
      "id": "icRKFBro_r7F",
      "execution_count": null,
      "outputs": []
    },
    {
      "cell_type": "markdown",
      "source": [
        "## Red neuronal\n",
        "El tamaño del vector de entrada es el tamaño del vocabulario, el tamaño de salida corresponde con el número de clases, en este caso 6"
      ],
      "metadata": {
        "id": "B65K6sfiAAH7"
      },
      "id": "B65K6sfiAAH7"
    },
    {
      "cell_type": "code",
      "source": [
        "net = torch.nn.Sequential(\n",
        "    torch.nn.Linear(len(vocab), 6),\n",
        "    torch.nn.LogSoftmax(dim=1)\n",
        ")"
      ],
      "metadata": {
        "id": "AwhGRaD8__ot"
      },
      "id": "AwhGRaD8__ot",
      "execution_count": null,
      "outputs": []
    },
    {
      "cell_type": "markdown",
      "source": [
        "## Entrenamiento del modelo"
      ],
      "metadata": {
        "id": "LW_v-k1MAcUt"
      },
      "id": "LW_v-k1MAcUt"
    },
    {
      "cell_type": "code",
      "source": [
        "def train_epoch(\n",
        "    net,\n",
        "    dataloader,\n",
        "    lr=0.01,\n",
        "    optimizer=None,\n",
        "    loss_fn=torch.nn.NLLLoss(),\n",
        "    epoch_size=None,\n",
        "    report_freq=50,\n",
        "):\n",
        "\n",
        "    # Si no se especifica un optimizador, usamos Adam\n",
        "    optimizer = optimizer or torch.optim.Adam(net.parameters(), lr=lr)\n",
        "\n",
        "    # Ponemos la red en modo de entrenamiento.Esto activa el comportamiento de las capas de DropOut, por ejemplo.\n",
        "    net.train()\n",
        "\n",
        "    # Inicializar las variables que nos servirán para calcular la precisión\n",
        "    total_loss, acc, count, i = 0, 0, 0, 0\n",
        "\n",
        "    # Iteremamos sobre el dataloader\n",
        "    for labels, features in dataloader:\n",
        "\n",
        "        # Ponemos los gradientes a cero\n",
        "        optimizer.zero_grad()\n",
        "\n",
        "        # calculamos la salida de la red\n",
        "        out = net(features)\n",
        "\n",
        "        # Calculamos la pérdida. Esta función ya se aplica a Softmax a la salida.\n",
        "        loss = loss_fn(out, labels)  # cross_entropy(out,labels)\n",
        "\n",
        "        # Propagamos la pérdida de regreso. Esto hará que se calculen los gradientes .\n",
        "        loss.backward()\n",
        "\n",
        "        # Actualizamos los pesos de la red. Esto toma un paso de optimización.\n",
        "        optimizer.step()\n",
        "\n",
        "        # Actualizamos variables para calcular la precisión.\n",
        "        total_loss += loss\n",
        "\n",
        "        # Calculamos la precisión. Para hacer esto, debemos convertir la salida de red en etiquetas.\n",
        "        # La clase con la mayor probabilidad es la que predecimos como etiqueta.\n",
        "        _, predicted = torch.max(out, 1)\n",
        "        acc += (predicted == labels).sum()\n",
        "\n",
        "        # Actualizamos el contador de muestras\n",
        "        count += len(labels)\n",
        "\n",
        "        # Mostramos la precisión cada report_freq muestras\n",
        "        i += 1\n",
        "        if i % report_freq == 0:\n",
        "            print(f\"{count}: acc={acc.item()/count}\")\n",
        "\n",
        "        # Si se especifica epoch_size y ya hemos procesado este número de muestras, dejamos el bucle.\n",
        "        if epoch_size and count > epoch_size:\n",
        "            break\n",
        "    return total_loss.item() / count, acc.item() / count\n",
        "\n",
        "num_epochs = 5\n",
        "\n",
        "for epoch in range(num_epochs):\n",
        "    print(f\"Starting epoch {epoch+1}\")\n",
        "    train_epoch(net, train_loader, epoch_size=5452)\n",
        "# train_epoch(net, train_loader, epoch_size=5452)"
      ],
      "metadata": {
        "id": "o8DwUk-aAbFM"
      },
      "id": "o8DwUk-aAbFM",
      "execution_count": null,
      "outputs": []
    },
    {
      "cell_type": "markdown",
      "source": [
        "## Words2Vec"
      ],
      "metadata": {
        "id": "SD9oN4uEDY9U"
      },
      "id": "SD9oN4uEDY9U"
    },
    {
      "cell_type": "code",
      "source": [
        "import gensim.downloader as api\n",
        "\n",
        "w2v = api.load('word2vec-google-news-300')"
      ],
      "metadata": {
        "id": "rtVe7f28DV6B"
      },
      "id": "rtVe7f28DV6B",
      "execution_count": null,
      "outputs": []
    },
    {
      "cell_type": "markdown",
      "source": [
        "## Clasificación Word2Vec\n",
        "Función que recibe un texto y devuelve un vector con la representación w2v del texto"
      ],
      "metadata": {
        "id": "D7FcQke7D_eZ"
      },
      "id": "D7FcQke7D_eZ"
    },
    {
      "cell_type": "code",
      "source": [
        "def to_w2v(text):\n",
        "    res = torch.zeros(300, dtype=torch.float32)\n",
        "    for word in text:\n",
        "        if word in w2v:\n",
        "            res += torch.tensor(w2v.get_vector(word))\n",
        "    return res\n",
        "\n",
        "print(to_w2v(ds_train[0][\"text\"]))"
      ],
      "metadata": {
        "id": "Dqz5yvWsD5tg"
      },
      "id": "Dqz5yvWsD5tg",
      "execution_count": null,
      "outputs": []
    },
    {
      "cell_type": "markdown",
      "source": [
        "Función que convierte los datos textales en tensores w2v"
      ],
      "metadata": {
        "id": "e_DEU5dyN5jW"
      },
      "id": "e_DEU5dyN5jW"
    },
    {
      "cell_type": "code",
      "source": [
        "def w2vify(batch):\n",
        "    etiquetes = torch.LongTensor([comentario[\"coarse_label\"] for comentario in batch])\n",
        "    comentarios = torch.stack([to_w2v(tokenizer.tokenize(comentario[\"text\"])) for comentario in batch])\n",
        "    return etiquetes, comentarios\n",
        "\n",
        "train_loader = DataLoader(ds_train, batch_size=16, collate_fn=w2vify)\n",
        "test_loader = DataLoader(ds_test, batch_size=16, collate_fn=w2vify)"
      ],
      "metadata": {
        "id": "u068n0MdEWSb"
      },
      "id": "u068n0MdEWSb",
      "execution_count": null,
      "outputs": []
    },
    {
      "cell_type": "code",
      "source": [
        "net = torch.nn.Sequential(\n",
        "    torch.nn.Linear(300, 6),\n",
        "    torch.nn.LogSoftmax(dim=1)\n",
        ")"
      ],
      "metadata": {
        "id": "eu8pMz4OEqix"
      },
      "id": "eu8pMz4OEqix",
      "execution_count": null,
      "outputs": []
    },
    {
      "cell_type": "code",
      "source": [
        "train_epoch(net, train_loader, epoch_size=5452)"
      ],
      "metadata": {
        "id": "NGtHcHsFFWwy"
      },
      "id": "NGtHcHsFFWwy",
      "execution_count": null,
      "outputs": []
    },
    {
      "cell_type": "markdown",
      "source": [
        "Como podemos observar los resultados son ligeramente mejores con BoW que con Words2Vec"
      ],
      "metadata": {
        "id": "KLuvkA9uKHzI"
      },
      "id": "KLuvkA9uKHzI"
    }
  ],
  "metadata": {
    "kernelspec": {
      "display_name": "Python 3",
      "language": "python",
      "name": "python3"
    },
    "language_info": {
      "codemirror_mode": {
        "name": "ipython",
        "version": 2
      },
      "file_extension": ".py",
      "mimetype": "text/x-python",
      "name": "python",
      "nbconvert_exporter": "python",
      "pygments_lexer": "ipython2",
      "version": "2.7.6"
    },
    "colab": {
      "provenance": []
    }
  },
  "nbformat": 4,
  "nbformat_minor": 5
}